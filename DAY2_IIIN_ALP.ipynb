{
  "nbformat": 4,
  "nbformat_minor": 0,
  "metadata": {
    "colab": {
      "provenance": [],
      "authorship_tag": "ABX9TyNZsiQOj8ymDctjY47pLwJT",
      "include_colab_link": true
    },
    "kernelspec": {
      "name": "python3",
      "display_name": "Python 3"
    },
    "language_info": {
      "name": "python"
    }
  },
  "cells": [
    {
      "cell_type": "markdown",
      "metadata": {
        "id": "view-in-github",
        "colab_type": "text"
      },
      "source": [
        "<a href=\"https://colab.research.google.com/github/AkaMajed/MY-ALP-/blob/main/DAY2_IIIN_ALP.ipynb\" target=\"_parent\"><img src=\"https://colab.research.google.com/assets/colab-badge.svg\" alt=\"Open In Colab\"/></a>"
      ]
    },
    {
      "cell_type": "markdown",
      "source": [
        "#iretation with a counter"
      ],
      "metadata": {
        "id": "DFCOoBWqxwgh"
      }
    },
    {
      "cell_type": "code",
      "source": [
        "counter = 1\n",
        "\n",
        "while counter < 6:\n",
        "  print(counter)\n",
        "  counter +=1\n",
        "print(\"the loop has finished\")"
      ],
      "metadata": {
        "colab": {
          "base_uri": "https://localhost:8080/"
        },
        "id": "1sGdEGmexyod",
        "outputId": "3ffc8e80-ad8d-45e5-88f6-e487b5d0ecdc"
      },
      "execution_count": null,
      "outputs": [
        {
          "output_type": "stream",
          "name": "stdout",
          "text": [
            "1\n",
            "2\n",
            "3\n",
            "4\n",
            "5\n",
            "the loop has finished\n"
          ]
        }
      ]
    },
    {
      "cell_type": "code",
      "source": [
        "counter = int(input(\"please enter a number so we can start the count\"))\n",
        "\n",
        "while counter > 0:\n",
        "  print(counter)\n",
        "  counter -=1\n",
        "print(\"blast off\")"
      ],
      "metadata": {
        "colab": {
          "base_uri": "https://localhost:8080/"
        },
        "id": "r1Ayrlt0x-K1",
        "outputId": "954b6778-e476-4804-90e3-1b1e40b5c20a"
      },
      "execution_count": null,
      "outputs": [
        {
          "output_type": "stream",
          "name": "stdout",
          "text": [
            "please enter a number so we can start the count212\n",
            "212\n",
            "211\n",
            "210\n",
            "209\n",
            "208\n",
            "207\n",
            "206\n",
            "205\n",
            "204\n",
            "203\n",
            "202\n",
            "201\n",
            "200\n",
            "199\n",
            "198\n",
            "197\n",
            "196\n",
            "195\n",
            "194\n",
            "193\n",
            "192\n",
            "191\n",
            "190\n",
            "189\n",
            "188\n",
            "187\n",
            "186\n",
            "185\n",
            "184\n",
            "183\n",
            "182\n",
            "181\n",
            "180\n",
            "179\n",
            "178\n",
            "177\n",
            "176\n",
            "175\n",
            "174\n",
            "173\n",
            "172\n",
            "171\n",
            "170\n",
            "169\n",
            "168\n",
            "167\n",
            "166\n",
            "165\n",
            "164\n",
            "163\n",
            "162\n",
            "161\n",
            "160\n",
            "159\n",
            "158\n",
            "157\n",
            "156\n",
            "155\n",
            "154\n",
            "153\n",
            "152\n",
            "151\n",
            "150\n",
            "149\n",
            "148\n",
            "147\n",
            "146\n",
            "145\n",
            "144\n",
            "143\n",
            "142\n",
            "141\n",
            "140\n",
            "139\n",
            "138\n",
            "137\n",
            "136\n",
            "135\n",
            "134\n",
            "133\n",
            "132\n",
            "131\n",
            "130\n",
            "129\n",
            "128\n",
            "127\n",
            "126\n",
            "125\n",
            "124\n",
            "123\n",
            "122\n",
            "121\n",
            "120\n",
            "119\n",
            "118\n",
            "117\n",
            "116\n",
            "115\n",
            "114\n",
            "113\n",
            "112\n",
            "111\n",
            "110\n",
            "109\n",
            "108\n",
            "107\n",
            "106\n",
            "105\n",
            "104\n",
            "103\n",
            "102\n",
            "101\n",
            "100\n",
            "99\n",
            "98\n",
            "97\n",
            "96\n",
            "95\n",
            "94\n",
            "93\n",
            "92\n",
            "91\n",
            "90\n",
            "89\n",
            "88\n",
            "87\n",
            "86\n",
            "85\n",
            "84\n",
            "83\n",
            "82\n",
            "81\n",
            "80\n",
            "79\n",
            "78\n",
            "77\n",
            "76\n",
            "75\n",
            "74\n",
            "73\n",
            "72\n",
            "71\n",
            "70\n",
            "69\n",
            "68\n",
            "67\n",
            "66\n",
            "65\n",
            "64\n",
            "63\n",
            "62\n",
            "61\n",
            "60\n",
            "59\n",
            "58\n",
            "57\n",
            "56\n",
            "55\n",
            "54\n",
            "53\n",
            "52\n",
            "51\n",
            "50\n",
            "49\n",
            "48\n",
            "47\n",
            "46\n",
            "45\n",
            "44\n",
            "43\n",
            "42\n",
            "41\n",
            "40\n",
            "39\n",
            "38\n",
            "37\n",
            "36\n",
            "35\n",
            "34\n",
            "33\n",
            "32\n",
            "31\n",
            "30\n",
            "29\n",
            "28\n",
            "27\n",
            "26\n",
            "25\n",
            "24\n",
            "23\n",
            "22\n",
            "21\n",
            "20\n",
            "19\n",
            "18\n",
            "17\n",
            "16\n",
            "15\n",
            "14\n",
            "13\n",
            "12\n",
            "11\n",
            "10\n",
            "9\n",
            "8\n",
            "7\n",
            "6\n",
            "5\n",
            "4\n",
            "3\n",
            "2\n",
            "1\n",
            "blast off\n"
          ]
        }
      ]
    },
    {
      "cell_type": "code",
      "source": [
        "correctUserName = \"Dave\"\n",
        "\n",
        "userName = input((\"please enter your username\"))\n",
        "\n",
        "while userName != correctUserName:\n",
        "  userName = input(\"Username incorrect, please try again.\")\n",
        "\n",
        "print(\"userName accepted.\")"
      ],
      "metadata": {
        "colab": {
          "base_uri": "https://localhost:8080/"
        },
        "id": "zFDHzvK5zohk",
        "outputId": "c6baee9e-17a1-4ad4-9f83-1b7ced1a5068"
      },
      "execution_count": null,
      "outputs": [
        {
          "output_type": "stream",
          "name": "stdout",
          "text": [
            "please enter your usernameWS\n",
            "Username incorrect, please try again.Dave\n",
            "userName accepted.\n"
          ]
        }
      ]
    },
    {
      "cell_type": "code",
      "source": [
        "correctPassword = input((\"enter your password please\"))\n",
        "\n",
        "Password = input((\"please enter your Password again \"))\n",
        "\n",
        "while Password != correctPassword:\n",
        "  Password = input(\"password incorrect, please try again.\")\n",
        "\n",
        "print(\"Password accepted.\")"
      ],
      "metadata": {
        "colab": {
          "base_uri": "https://localhost:8080/"
        },
        "id": "lzEbrTyW3NfW",
        "outputId": "eaefe6b3-1a20-4d19-beca-02a3474973f3"
      },
      "execution_count": null,
      "outputs": [
        {
          "output_type": "stream",
          "name": "stdout",
          "text": [
            "enter your password pleaseMAJED\n",
            "please enter your Password again SAEED\n",
            "password incorrect, please try again.MAJED\n",
            "Password accepted.\n"
          ]
        }
      ]
    },
    {
      "cell_type": "code",
      "source": [
        "fruit =  [\"Apple\",\"Banana\",\"Orange\",\"Melon\",\"Strawberry\",\"Grape\"]\n",
        "print(fruit[3])\n",
        "print(fruit[5])\n",
        "print(fruit[0] + \" \" + fruit[2])\n",
        "print(fruit[2])\n",
        "print(fruit)"
      ],
      "metadata": {
        "colab": {
          "base_uri": "https://localhost:8080/"
        },
        "id": "ZfowP5RT9pC3",
        "outputId": "2a652341-e00d-461e-9f4f-f401fe3290cf"
      },
      "execution_count": null,
      "outputs": [
        {
          "output_type": "stream",
          "name": "stdout",
          "text": [
            "Melon\n",
            "Grape\n",
            "Apple Orange\n",
            "Orange\n",
            "['Apple', 'Banana', 'Orange', 'Melon', 'Strawberry', 'Grape']\n"
          ]
        }
      ]
    },
    {
      "cell_type": "markdown",
      "source": [
        "ADD AND REMOVE FROM A LIST\n"
      ],
      "metadata": {
        "id": "JCkekcyPANhn"
      }
    },
    {
      "cell_type": "code",
      "source": [
        "#TASK 1\n",
        "food = [\"bacon\", \"cheese\", \"pasta\" , \"beans\"]\n",
        "#append will add a variable to the list\n",
        "#insert 1 ice cream will like put ice cream into the list and give it number 1\n",
        "#and about remove will just kick it off\n",
        "#and pop will remove the last one I GUESS\n",
        "food.insert(1,\"ice cream\")\n",
        "food.remove(\"cheese\")\n",
        "food.pop()\n",
        "food.append(\"tomatoes\")\n",
        "\n",
        "print(food)\n",
        "#the list will look like tomatoes at the last with ice cream at the second and cheese removed and beans poped\n",
        "#NAH MY PREDICTION WAS NOT CORRECT AND TOMATOE APPEARED ALONE"
      ],
      "metadata": {
        "colab": {
          "base_uri": "https://localhost:8080/"
        },
        "id": "EBuxmYtv_ByB",
        "outputId": "519d4d36-2abf-4ba9-e659-0d3c659a787b"
      },
      "execution_count": null,
      "outputs": [
        {
          "output_type": "stream",
          "name": "stdout",
          "text": [
            "['bacon', 'ice cream', 'pasta', 'tomatoes']\n"
          ]
        }
      ]
    },
    {
      "cell_type": "markdown",
      "source": [
        "home work challenge [NOT A REAL HOMEWORK](PAUSED I DIDNT FINISH IT YET)\n",
        "\n",
        "####i faced some lil problems so i used chat gpt just to correct things up not everything\n",
        "# This is formatted as code\n",
        "```\n",
        "\n"
      ],
      "metadata": {
        "id": "tGD_sDprCkDF"
      }
    },
    {
      "cell_type": "code",
      "source": [
        "weapons = [\"sword\", \"gun\", \"ak47\", \"M4\"]\n",
        "zombie_weakness = \"sword\"\n",
        "\n",
        "def encounter_zombie():\n",
        "    print(\"\\nYou have encountered a zombie. What are you going to do, champ?\")\n",
        "    print(\"Weapons available:\", weapons)\n",
        "\n",
        "    choice = input(\"Choose a weapon (sword, gun, ak47, M4) or enter your own weapon: \")\n",
        "\n",
        "    if choice.lower() == zombie_weakness:\n",
        "        print(\"You have defeated the zombie with the sword! You win!\")\n",
        "    else:\n",
        "        print(f\"You were defeated by the zombie. Game over. The zombie's weakness was {zombie_weakness}.\")\n",
        "\n",
        "    play_again = input(\"Do you want to play again? (yes/no): \").lower()\n",
        "    if play_again == \"yes\":\n",
        "        encounter_zombie()\n",
        "    else:\n",
        "        print(\"Thanks for playing!\")\n",
        "encounter_zombie()\n"
      ],
      "metadata": {
        "id": "3RigMMGnCle-",
        "colab": {
          "base_uri": "https://localhost:8080/"
        },
        "outputId": "c3e281ae-e1bb-4a08-9282-ff4d5e7a13c7"
      },
      "execution_count": 67,
      "outputs": [
        {
          "output_type": "stream",
          "name": "stdout",
          "text": [
            "\n",
            "You have encountered a zombie. What are you going to do, champ?\n",
            "Weapons available: ['sword', 'gun', 'ak47', 'M4']\n",
            "Choose a weapon (sword, gun, ak47, M4) or enter your own weapon: ak47\n",
            "You were defeated by the zombie. Game over. The zombie's weakness was sword.\n",
            "Do you want to play again? (yes/no): yes\n",
            "\n",
            "You have encountered a zombie. What are you going to do, champ?\n",
            "Weapons available: ['sword', 'gun', 'ak47', 'M4']\n",
            "Choose a weapon (sword, gun, ak47, M4) or enter your own weapon: sword\n",
            "You have defeated the zombie with the sword! You win!\n",
            "Do you want to play again? (yes/no): no\n",
            "Thanks for playing!\n"
          ]
        }
      ]
    },
    {
      "cell_type": "markdown",
      "source": [
        "SUBROUTINE"
      ],
      "metadata": {
        "id": "6BLDbK1bHwZk"
      }
    },
    {
      "cell_type": "code",
      "source": [
        "def add_five(num1):\n",
        "  print(num1 + 5)\n",
        "print (\"\")\n",
        "add_five(42)"
      ],
      "metadata": {
        "colab": {
          "base_uri": "https://localhost:8080/"
        },
        "id": "1NQxjkTeHzEC",
        "outputId": "8827fc97-bf97-4a7b-fc81-7acb9b10fecb"
      },
      "execution_count": null,
      "outputs": [
        {
          "output_type": "stream",
          "name": "stdout",
          "text": [
            "\n",
            "47\n"
          ]
        }
      ]
    },
    {
      "cell_type": "code",
      "source": [
        "def add(a,b,c):\n",
        "  sum = a+b+c\n",
        "  return sum\n",
        "def multiply(d,f):\n",
        "  most = d*f\n",
        "  return most\n",
        "def divide(e,g):\n",
        "  if divide==0:\n",
        "    print(\"invalid\")\n",
        "  else:\n",
        "    return (g/e)\n",
        "def subtract(h,i):\n",
        "  never = h-i\n",
        "choose = int(input(\"choose a number to calculate , 1 is to add 2 to subtract 3 to multiply 4 to divide\"))\n",
        "num1 = int(input(\"Enter a number\"))\n",
        "num2 = int(input(\"Enter a number\"))\n",
        "\n",
        "\n",
        "if choose==1:\n",
        "  print(add(num2,num1))\n",
        "elif choose==2:\n",
        "  print(subtract(num2,num1))\n",
        "elif choose==3:\n",
        "  print(multiply(num2,num1))\n",
        "elif choose==4:\n",
        "  print(divide(num2,num1))\n",
        "else:\n",
        "  print(\"sorry choose a number between 1 to 4\")"
      ],
      "metadata": {
        "colab": {
          "base_uri": "https://localhost:8080/"
        },
        "id": "o7PhyvqdKuIN",
        "outputId": "2764a9be-2330-41ec-8bb9-9c87c8f9cbc5"
      },
      "execution_count": 68,
      "outputs": [
        {
          "output_type": "stream",
          "name": "stdout",
          "text": [
            "choose a number to calculate , 1 is to add 2 to subtract 3 to multiply 4 to divide3\n",
            "Enter a number20\n",
            "Enter a number1\n",
            "20\n"
          ]
        }
      ]
    },
    {
      "cell_type": "code",
      "source": [
        "myfile = open(\"text.txt\", \"r\")\n",
        "\n",
        "for line in myfile:\n",
        "  print(line)\n",
        "myfile.close()"
      ],
      "metadata": {
        "id": "c_ZcSdUXRflA",
        "colab": {
          "base_uri": "https://localhost:8080/"
        },
        "outputId": "0d7f28e5-2e5f-4f89-a95e-8d078ac99c08"
      },
      "execution_count": null,
      "outputs": [
        {
          "output_type": "stream",
          "name": "stdout",
          "text": [
            "ddasss\n"
          ]
        }
      ]
    },
    {
      "cell_type": "code",
      "source": [
        "myfile = open(\"text.txt\", 'w')\n",
        "\n",
        "myfile.write(\"andy\")\n",
        "\n",
        "myfile.close()"
      ],
      "metadata": {
        "id": "uNeQ3sX4qe8X"
      },
      "execution_count": null,
      "outputs": []
    },
    {
      "cell_type": "code",
      "source": [
        "myfile = open(\"text.txt\", 'a')\n",
        "\n",
        "myfile.write(\" How are you ?\")\n",
        "\n",
        "myfile.close()"
      ],
      "metadata": {
        "id": "CWIZy8dJrVIS"
      },
      "execution_count": null,
      "outputs": []
    },
    {
      "cell_type": "code",
      "source": [
        "def paragraph(text):\n",
        "  text = \"All living things that live on this earth comes under the environment. Whether they live on land or water they are part of the environment. The environment also includes air, water, sunlight, plants, animals, etc\"\n",
        "  myfile = open(\"text.txt\", \"a\")\n",
        "\n",
        "  myfile.write(text)\n",
        "  myfile.close\n",
        "paragraph(text)"
      ],
      "metadata": {
        "id": "h-1Cak22srQ1"
      },
      "execution_count": null,
      "outputs": []
    },
    {
      "cell_type": "code",
      "source": [
        "counter =0\n",
        "for i in range(5):\n",
        "  counter +=1\n",
        "  print(i)"
      ],
      "metadata": {
        "colab": {
          "base_uri": "https://localhost:8080/"
        },
        "id": "LrBUY-Ynwsgc",
        "outputId": "df12279d-689b-459b-bf8d-0586d528a244"
      },
      "execution_count": null,
      "outputs": [
        {
          "output_type": "stream",
          "name": "stdout",
          "text": [
            "0\n",
            "1\n",
            "2\n",
            "3\n",
            "4\n"
          ]
        }
      ]
    },
    {
      "cell_type": "markdown",
      "source": [
        "#TASK - LIST ASSIGNMENT 1\n"
      ],
      "metadata": {
        "id": "G7907xKACh3w"
      }
    },
    {
      "cell_type": "code",
      "source": [
        "countries = [\"uk\", \"usa\", \"chad\", \"australia\", \"thailand\"]\n",
        "#so we just did the list of the countries and variblated them as that so when we call countries[1] usa will appear\n",
        "countries[3] = \"mexico\"\n",
        "countries[0] = \"iceland\"\n",
        "countries[1] = countries[4]\n",
        "#i think it would be iceland,australia,chad,mexico,thailand\n",
        "print(countries)"
      ],
      "metadata": {
        "colab": {
          "base_uri": "https://localhost:8080/"
        },
        "id": "TxW9ylDLCkxo",
        "outputId": "04112b4a-6fb8-4bb3-8e65-5973dd81abde"
      },
      "execution_count": null,
      "outputs": [
        {
          "output_type": "stream",
          "name": "stdout",
          "text": [
            "['iceland', 'thailand', 'chad', 'mexico', 'thailand']\n"
          ]
        }
      ]
    },
    {
      "cell_type": "markdown",
      "source": [
        "#task list assignment 2"
      ],
      "metadata": {
        "id": "8eukBAq2Dl3Q"
      }
    },
    {
      "cell_type": "code",
      "source": [
        "squareNumbers = [1,4,9,16,25,36]\n",
        "#like a sequnce or something ?\n",
        "squareNumbers[5] = 49\n",
        "squareNumbers[0] +=1\n",
        "total = squareNumbers[3] - squareNumbers[1]\n",
        "#would be 4 4 9 16 25 49\n",
        "print(squareNumbers)\n",
        "print(total)"
      ],
      "metadata": {
        "id": "QV7N5d1yw9g7",
        "colab": {
          "base_uri": "https://localhost:8080/"
        },
        "outputId": "8aca5d0e-fdf8-4087-c62f-c238d3387bb9"
      },
      "execution_count": 69,
      "outputs": [
        {
          "output_type": "stream",
          "name": "stdout",
          "text": [
            "[2, 4, 9, 16, 25, 49]\n",
            "12\n"
          ]
        }
      ]
    }
  ]
}